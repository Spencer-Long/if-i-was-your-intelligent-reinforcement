{
 "cells": [
  {
   "cell_type": "markdown",
   "metadata": {},
   "source": [
    "---\n",
    "---\n",
    "---\n",
    "# **Project**: *If I Was Your Intelligent Reinforcement*\n",
    "## **Collaberators**: Kaimi Kahihikolo & Spencer Long\n",
    "\n",
    "## **Task:** Creating A Deck of Cards Using Numpy & Displaying The First card In The Deck\n",
    "\n",
    "![Header](https://miro.medium.com/max/2400/1*DI7xvUIvp-3RY4G2dzCwUQ.jpeg)\n",
    "\n",
    "\n",
    "---\n",
    "---\n",
    "---"
   ]
  },
  {
   "cell_type": "markdown",
   "metadata": {},
   "source": [
    "## **Dependencies:**"
   ]
  },
  {
   "cell_type": "code",
   "execution_count": 2,
   "metadata": {},
   "outputs": [],
   "source": [
    "import numpy as np"
   ]
  },
  {
   "cell_type": "markdown",
   "metadata": {},
   "source": [
    "---\n",
    "## **Method 1:**\n",
    "\n",
    "### *Testing Idea of Creation:*"
   ]
  },
  {
   "cell_type": "code",
   "execution_count": 22,
   "metadata": {},
   "outputs": [],
   "source": [
    "deck = np.array([2,3,4,5,6,7,8,9,10,\"J\",\"K\",\"Q\",\"A\"]*4)"
   ]
  },
  {
   "cell_type": "code",
   "execution_count": 23,
   "metadata": {},
   "outputs": [
    {
     "data": {
      "text/plain": [
       "array(['2', '3', '4', '5', '6', '7', '8', '9', '10', 'J', 'K', 'Q', 'A',\n",
       "       '2', '3', '4', '5', '6', '7', '8', '9', '10', 'J', 'K', 'Q', 'A',\n",
       "       '2', '3', '4', '5', '6', '7', '8', '9', '10', 'J', 'K', 'Q', 'A',\n",
       "       '2', '3', '4', '5', '6', '7', '8', '9', '10', 'J', 'K', 'Q', 'A'],\n",
       "      dtype='<U21')"
      ]
     },
     "execution_count": 23,
     "metadata": {},
     "output_type": "execute_result"
    }
   ],
   "source": [
    "deck"
   ]
  },
  {
   "cell_type": "code",
   "execution_count": 24,
   "metadata": {},
   "outputs": [
    {
     "data": {
      "text/plain": [
       "(52,)"
      ]
     },
     "execution_count": 24,
     "metadata": {},
     "output_type": "execute_result"
    }
   ],
   "source": [
    "deck.shape"
   ]
  },
  {
   "cell_type": "code",
   "execution_count": 27,
   "metadata": {},
   "outputs": [
    {
     "data": {
      "text/plain": [
       "array(['8', '10', 'A', '2', 'Q', 'K', '8', 'Q', 'K', '3', '7', '5', 'Q',\n",
       "       '4', '3', 'A', 'Q', '10', '6', '6', '10', '9', '2', 'K', '9', '5',\n",
       "       '8', 'J', '2', '8', '4', '5', 'J', 'A', '7', '9', 'A', '4', '6',\n",
       "       '2', '10', '3', '7', '3', '5', '4', '9', 'K', '6', 'J', '7', 'J'],\n",
       "      dtype='<U21')"
      ]
     },
     "execution_count": 27,
     "metadata": {},
     "output_type": "execute_result"
    }
   ],
   "source": [
    "shuffled_deck = np.random.shuffle(deck)\n",
    "deck"
   ]
  },
  {
   "cell_type": "markdown",
   "metadata": {},
   "source": [
    "### *Creating a Function*"
   ]
  },
  {
   "cell_type": "code",
   "execution_count": 72,
   "metadata": {},
   "outputs": [],
   "source": [
    "# A function to create and shuffle a deck of cards\n",
    "def create_shuffled_deck():\n",
    "    \n",
    "    deck = np.array([2,3,4,5,6,7,8,9,10,\"J\",\"K\",\"Q\",\"A\"]*4)\n",
    "    \n",
    "    shuffled_deck = np.random.shuffle(deck)\n",
    "    \n",
    "    return deck"
   ]
  },
  {
   "cell_type": "markdown",
   "metadata": {},
   "source": [
    "### *Creating a New Shuffled Deck*"
   ]
  },
  {
   "cell_type": "code",
   "execution_count": 73,
   "metadata": {},
   "outputs": [],
   "source": [
    "# Create a new shuffled deck\n",
    "new_shuffled_deck = create_shuffled_deck()"
   ]
  },
  {
   "cell_type": "code",
   "execution_count": 74,
   "metadata": {},
   "outputs": [
    {
     "data": {
      "text/plain": [
       "array(['9', 'J', 'J', '10', '7', '4', 'K', 'A', 'J', '2', '2', '9', '8',\n",
       "       'J', '10', '3', 'Q', '4', '10', '4', '2', '5', '3', '4', 'K', '6',\n",
       "       '8', '6', 'K', '5', '7', '10', '2', 'A', 'K', 'A', 'A', '3', '5',\n",
       "       '6', '7', '9', '5', 'Q', '8', '6', 'Q', '9', 'Q', '7', '3', '8'],\n",
       "      dtype='<U21')"
      ]
     },
     "execution_count": 74,
     "metadata": {},
     "output_type": "execute_result"
    }
   ],
   "source": [
    "# Display the shuffled deck in array form\n",
    "new_shuffled_deck"
   ]
  },
  {
   "cell_type": "code",
   "execution_count": 75,
   "metadata": {},
   "outputs": [
    {
     "data": {
      "text/plain": [
       "(52,)"
      ]
     },
     "execution_count": 75,
     "metadata": {},
     "output_type": "execute_result"
    }
   ],
   "source": [
    "# Check to see that the deck contains 52 cards \n",
    "new_shuffled_deck.shape"
   ]
  },
  {
   "cell_type": "code",
   "execution_count": 81,
   "metadata": {},
   "outputs": [
    {
     "data": {
      "text/plain": [
       "array(['10', '2', '3', '4', '5', '6', '7', '8', '9', 'A', 'J', 'K', 'Q'],\n",
       "      dtype='<U21')"
      ]
     },
     "execution_count": 81,
     "metadata": {},
     "output_type": "execute_result"
    }
   ],
   "source": [
    "# Make sure the deck has all of the correct cards\n",
    "np.unique(new_shuffled_deck)"
   ]
  },
  {
   "cell_type": "markdown",
   "metadata": {},
   "source": [
    "### *Displaying The Top Card of The Deck*"
   ]
  },
  {
   "cell_type": "code",
   "execution_count": 86,
   "metadata": {},
   "outputs": [
    {
     "data": {
      "text/plain": [
       "'9'"
      ]
     },
     "execution_count": 86,
     "metadata": {},
     "output_type": "execute_result"
    }
   ],
   "source": [
    "# Diplay the top card of the deck\n",
    "new_shuffled_deck[0]"
   ]
  }
 ],
 "metadata": {
  "kernelspec": {
   "display_name": "Python 3",
   "language": "python",
   "name": "python3"
  },
  "language_info": {
   "codemirror_mode": {
    "name": "ipython",
    "version": 3
   },
   "file_extension": ".py",
   "mimetype": "text/x-python",
   "name": "python",
   "nbconvert_exporter": "python",
   "pygments_lexer": "ipython3",
   "version": "3.6.1"
  }
 },
 "nbformat": 4,
 "nbformat_minor": 2
}
